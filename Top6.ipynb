{
 "cells": [
  {
   "cell_type": "code",
   "execution_count": 2,
   "metadata": {},
   "outputs": [
    {
     "data": {
      "text/html": [
       "<div>\n",
       "<style scoped>\n",
       "    .dataframe tbody tr th:only-of-type {\n",
       "        vertical-align: middle;\n",
       "    }\n",
       "\n",
       "    .dataframe tbody tr th {\n",
       "        vertical-align: top;\n",
       "    }\n",
       "\n",
       "    .dataframe thead th {\n",
       "        text-align: right;\n",
       "    }\n",
       "</style>\n",
       "<table border=\"1\" class=\"dataframe\">\n",
       "  <thead>\n",
       "    <tr style=\"text-align: right;\">\n",
       "      <th></th>\n",
       "      <th>Matchweek</th>\n",
       "      <th>Day</th>\n",
       "      <th>Time</th>\n",
       "      <th>Venue</th>\n",
       "      <th>Attendance</th>\n",
       "      <th>Referee</th>\n",
       "      <th>Opponent</th>\n",
       "      <th>Result</th>\n",
       "      <th>Possession</th>\n",
       "      <th>Goals for</th>\n",
       "      <th>Goals against</th>\n",
       "      <th>Expectec goals</th>\n",
       "      <th>Shots</th>\n",
       "      <th>Shots on target</th>\n",
       "      <th>Passes</th>\n",
       "      <th>Passes completed</th>\n",
       "      <th>Short passes</th>\n",
       "      <th>Medium passes</th>\n",
       "      <th>Long passes</th>\n",
       "      <th>Corners</th>\n",
       "      <th>Tackles</th>\n",
       "      <th>Tackles won</th>\n",
       "      <th>Fouls</th>\n",
       "      <th>Penalties attempted</th>\n",
       "      <th>Penalties made</th>\n",
       "    </tr>\n",
       "  </thead>\n",
       "  <tbody>\n",
       "    <tr>\n",
       "      <th>0</th>\n",
       "      <td>Matchweek 1</td>\n",
       "      <td>Fri</td>\n",
       "      <td>20:00</td>\n",
       "      <td>Away</td>\n",
       "      <td>25,286</td>\n",
       "      <td>Anthony Taylor</td>\n",
       "      <td>Crystal Palace</td>\n",
       "      <td>W</td>\n",
       "      <td>44</td>\n",
       "      <td>2</td>\n",
       "      <td>0</td>\n",
       "      <td>1.0</td>\n",
       "      <td>10</td>\n",
       "      <td>2</td>\n",
       "      <td>469</td>\n",
       "      <td>378</td>\n",
       "      <td>201</td>\n",
       "      <td>176</td>\n",
       "      <td>60</td>\n",
       "      <td>5</td>\n",
       "      <td>29</td>\n",
       "      <td>16</td>\n",
       "      <td>11</td>\n",
       "      <td>0</td>\n",
       "      <td>0</td>\n",
       "    </tr>\n",
       "    <tr>\n",
       "      <th>1</th>\n",
       "      <td>Matchweek 2</td>\n",
       "      <td>Sat</td>\n",
       "      <td>15:00</td>\n",
       "      <td>Home</td>\n",
       "      <td>60,033</td>\n",
       "      <td>Darren England</td>\n",
       "      <td>Leicester City</td>\n",
       "      <td>W</td>\n",
       "      <td>50</td>\n",
       "      <td>4</td>\n",
       "      <td>2</td>\n",
       "      <td>2.7</td>\n",
       "      <td>19</td>\n",
       "      <td>7</td>\n",
       "      <td>499</td>\n",
       "      <td>407</td>\n",
       "      <td>232</td>\n",
       "      <td>173</td>\n",
       "      <td>61</td>\n",
       "      <td>6</td>\n",
       "      <td>8</td>\n",
       "      <td>6</td>\n",
       "      <td>15</td>\n",
       "      <td>0</td>\n",
       "      <td>0</td>\n",
       "    </tr>\n",
       "    <tr>\n",
       "      <th>2</th>\n",
       "      <td>Matchweek 3</td>\n",
       "      <td>Sat</td>\n",
       "      <td>17:30</td>\n",
       "      <td>Away</td>\n",
       "      <td>10,423</td>\n",
       "      <td>Craig Pawson</td>\n",
       "      <td>Bournemouth</td>\n",
       "      <td>W</td>\n",
       "      <td>57</td>\n",
       "      <td>3</td>\n",
       "      <td>0</td>\n",
       "      <td>1.3</td>\n",
       "      <td>14</td>\n",
       "      <td>6</td>\n",
       "      <td>614</td>\n",
       "      <td>534</td>\n",
       "      <td>307</td>\n",
       "      <td>206</td>\n",
       "      <td>61</td>\n",
       "      <td>4</td>\n",
       "      <td>14</td>\n",
       "      <td>8</td>\n",
       "      <td>10</td>\n",
       "      <td>0</td>\n",
       "      <td>0</td>\n",
       "    </tr>\n",
       "    <tr>\n",
       "      <th>3</th>\n",
       "      <td>Matchweek 4</td>\n",
       "      <td>Sat</td>\n",
       "      <td>17:30</td>\n",
       "      <td>Home</td>\n",
       "      <td>60,164</td>\n",
       "      <td>Jarred Gillett</td>\n",
       "      <td>Fulham</td>\n",
       "      <td>W</td>\n",
       "      <td>71</td>\n",
       "      <td>2</td>\n",
       "      <td>1</td>\n",
       "      <td>2.6</td>\n",
       "      <td>22</td>\n",
       "      <td>8</td>\n",
       "      <td>637</td>\n",
       "      <td>534</td>\n",
       "      <td>252</td>\n",
       "      <td>268</td>\n",
       "      <td>91</td>\n",
       "      <td>9</td>\n",
       "      <td>15</td>\n",
       "      <td>11</td>\n",
       "      <td>6</td>\n",
       "      <td>0</td>\n",
       "      <td>0</td>\n",
       "    </tr>\n",
       "    <tr>\n",
       "      <th>...</th>\n",
       "      <td>...</td>\n",
       "      <td>...</td>\n",
       "      <td>...</td>\n",
       "      <td>...</td>\n",
       "      <td>...</td>\n",
       "      <td>...</td>\n",
       "      <td>...</td>\n",
       "      <td>...</td>\n",
       "      <td>...</td>\n",
       "      <td>...</td>\n",
       "      <td>...</td>\n",
       "      <td>...</td>\n",
       "      <td>...</td>\n",
       "      <td>...</td>\n",
       "      <td>...</td>\n",
       "      <td>...</td>\n",
       "      <td>...</td>\n",
       "      <td>...</td>\n",
       "      <td>...</td>\n",
       "      <td>...</td>\n",
       "      <td>...</td>\n",
       "      <td>...</td>\n",
       "      <td>...</td>\n",
       "      <td>...</td>\n",
       "      <td>...</td>\n",
       "    </tr>\n",
       "    <tr>\n",
       "      <th>34</th>\n",
       "      <td>Matchweek 35</td>\n",
       "      <td>Sun</td>\n",
       "      <td>16:30</td>\n",
       "      <td>Away</td>\n",
       "      <td>50,267</td>\n",
       "      <td>Chris Kavanagh</td>\n",
       "      <td>Newcastle Utd</td>\n",
       "      <td>W</td>\n",
       "      <td>45</td>\n",
       "      <td>2</td>\n",
       "      <td>0</td>\n",
       "      <td>1.3</td>\n",
       "      <td>10</td>\n",
       "      <td>6</td>\n",
       "      <td>374</td>\n",
       "      <td>291</td>\n",
       "      <td>162</td>\n",
       "      <td>151</td>\n",
       "      <td>50</td>\n",
       "      <td>4</td>\n",
       "      <td>23</td>\n",
       "      <td>18</td>\n",
       "      <td>12</td>\n",
       "      <td>0</td>\n",
       "      <td>0</td>\n",
       "    </tr>\n",
       "    <tr>\n",
       "      <th>35</th>\n",
       "      <td>Matchweek 36</td>\n",
       "      <td>Sun</td>\n",
       "      <td>16:30</td>\n",
       "      <td>Home</td>\n",
       "      <td>60,139</td>\n",
       "      <td>Andy Madley</td>\n",
       "      <td>Brighton</td>\n",
       "      <td>L</td>\n",
       "      <td>41</td>\n",
       "      <td>0</td>\n",
       "      <td>3</td>\n",
       "      <td>0.9</td>\n",
       "      <td>14</td>\n",
       "      <td>2</td>\n",
       "      <td>387</td>\n",
       "      <td>292</td>\n",
       "      <td>167</td>\n",
       "      <td>140</td>\n",
       "      <td>61</td>\n",
       "      <td>5</td>\n",
       "      <td>20</td>\n",
       "      <td>6</td>\n",
       "      <td>13</td>\n",
       "      <td>0</td>\n",
       "      <td>0</td>\n",
       "    </tr>\n",
       "    <tr>\n",
       "      <th>36</th>\n",
       "      <td>Matchweek 37</td>\n",
       "      <td>Sat</td>\n",
       "      <td>17:30</td>\n",
       "      <td>Away</td>\n",
       "      <td>29,514</td>\n",
       "      <td>Anthony Taylor</td>\n",
       "      <td>Nott'ham Forest</td>\n",
       "      <td>L</td>\n",
       "      <td>81</td>\n",
       "      <td>0</td>\n",
       "      <td>1</td>\n",
       "      <td>0.6</td>\n",
       "      <td>11</td>\n",
       "      <td>3</td>\n",
       "      <td>764</td>\n",
       "      <td>665</td>\n",
       "      <td>359</td>\n",
       "      <td>312</td>\n",
       "      <td>46</td>\n",
       "      <td>6</td>\n",
       "      <td>8</td>\n",
       "      <td>3</td>\n",
       "      <td>12</td>\n",
       "      <td>0</td>\n",
       "      <td>0</td>\n",
       "    </tr>\n",
       "    <tr>\n",
       "      <th>37</th>\n",
       "      <td>Matchweek 38</td>\n",
       "      <td>Sun</td>\n",
       "      <td>16:30</td>\n",
       "      <td>Home</td>\n",
       "      <td>60,095</td>\n",
       "      <td>Andre Marriner</td>\n",
       "      <td>Wolves</td>\n",
       "      <td>W</td>\n",
       "      <td>51</td>\n",
       "      <td>5</td>\n",
       "      <td>0</td>\n",
       "      <td>2.8</td>\n",
       "      <td>14</td>\n",
       "      <td>8</td>\n",
       "      <td>484</td>\n",
       "      <td>418</td>\n",
       "      <td>198</td>\n",
       "      <td>213</td>\n",
       "      <td>52</td>\n",
       "      <td>8</td>\n",
       "      <td>17</td>\n",
       "      <td>14</td>\n",
       "      <td>8</td>\n",
       "      <td>0</td>\n",
       "      <td>0</td>\n",
       "    </tr>\n",
       "  </tbody>\n",
       "</table>\n",
       "<p>38 rows × 25 columns</p>\n",
       "</div>"
      ],
      "text/plain": [
       "       Matchweek  Day   Time Venue Attendance         Referee  \\\n",
       "0    Matchweek 1  Fri  20:00  Away     25,286  Anthony Taylor   \n",
       "1    Matchweek 2  Sat  15:00  Home     60,033  Darren England   \n",
       "2    Matchweek 3  Sat  17:30  Away     10,423    Craig Pawson   \n",
       "3    Matchweek 4  Sat  17:30  Home     60,164  Jarred Gillett   \n",
       "..           ...  ...    ...   ...        ...             ...   \n",
       "34  Matchweek 35  Sun  16:30  Away     50,267  Chris Kavanagh   \n",
       "35  Matchweek 36  Sun  16:30  Home     60,139     Andy Madley   \n",
       "36  Matchweek 37  Sat  17:30  Away     29,514  Anthony Taylor   \n",
       "37  Matchweek 38  Sun  16:30  Home     60,095  Andre Marriner   \n",
       "\n",
       "           Opponent Result  Possession  Goals for  Goals against  \\\n",
       "0    Crystal Palace      W          44          2              0   \n",
       "1    Leicester City      W          50          4              2   \n",
       "2       Bournemouth      W          57          3              0   \n",
       "3            Fulham      W          71          2              1   \n",
       "..              ...    ...         ...        ...            ...   \n",
       "34    Newcastle Utd      W          45          2              0   \n",
       "35         Brighton      L          41          0              3   \n",
       "36  Nott'ham Forest      L          81          0              1   \n",
       "37           Wolves      W          51          5              0   \n",
       "\n",
       "    Expectec goals  Shots  Shots on target  Passes  Passes completed  \\\n",
       "0              1.0     10                2     469               378   \n",
       "1              2.7     19                7     499               407   \n",
       "2              1.3     14                6     614               534   \n",
       "3              2.6     22                8     637               534   \n",
       "..             ...    ...              ...     ...               ...   \n",
       "34             1.3     10                6     374               291   \n",
       "35             0.9     14                2     387               292   \n",
       "36             0.6     11                3     764               665   \n",
       "37             2.8     14                8     484               418   \n",
       "\n",
       "    Short passes  Medium passes  Long passes  Corners  Tackles  Tackles won  \\\n",
       "0            201            176           60        5       29           16   \n",
       "1            232            173           61        6        8            6   \n",
       "2            307            206           61        4       14            8   \n",
       "3            252            268           91        9       15           11   \n",
       "..           ...            ...          ...      ...      ...          ...   \n",
       "34           162            151           50        4       23           18   \n",
       "35           167            140           61        5       20            6   \n",
       "36           359            312           46        6        8            3   \n",
       "37           198            213           52        8       17           14   \n",
       "\n",
       "    Fouls  Penalties attempted  Penalties made  \n",
       "0      11                    0               0  \n",
       "1      15                    0               0  \n",
       "2      10                    0               0  \n",
       "3       6                    0               0  \n",
       "..    ...                  ...             ...  \n",
       "34     12                    0               0  \n",
       "35     13                    0               0  \n",
       "36     12                    0               0  \n",
       "37      8                    0               0  \n",
       "\n",
       "[38 rows x 25 columns]"
      ]
     },
     "execution_count": 2,
     "metadata": {},
     "output_type": "execute_result"
    }
   ],
   "source": [
    "#Import the necessary libraries\n",
    "import pandas as pd\n",
    "import numpy as np\n",
    "from matplotlib import pyplot as plt\n",
    "\n",
    "Full_df=pd.read_csv(r'C:\\Users\\B InfoSoft\\Desktop\\Code Projects\\PANDAS\\TheArsenal.csv') #Read the csv dataset and save it into a dataframe\n",
    "#Set display options to make the output clearer and less cluttered\n",
    "pd.set_option('display.max_rows',8) \n",
    "pd.set_option('display.max_columns',25)\n",
    "\n",
    "Full_df"
   ]
  },
  {
   "cell_type": "markdown",
   "metadata": {},
   "source": [
    "This dataframe contains all the matchweeks for Arsenal but we only need the data for the top 6 teams. We will first look at how the top six teams are registered in the dataframe (their name can be found in the 'Opponent' column). Then, we create a list and pass it into a filter where it displays only the data containing the names of those teams inside the previously mentioned list.\n",
    "\n",
    "Finally, we create a new abridged dataframe containing only the data versus the top teams in the Premier League."
   ]
  },
  {
   "cell_type": "code",
   "execution_count": 3,
   "metadata": {},
   "outputs": [
    {
     "data": {
      "text/plain": [
       "array(['Crystal Palace', 'Leicester City', 'Bournemouth', 'Fulham',\n",
       "       'Aston Villa', 'Manchester Utd', 'Brentford', 'Tottenham',\n",
       "       'Liverpool', 'Leeds United', 'Southampton', \"Nott'ham Forest\",\n",
       "       'Chelsea', 'Wolves', 'West Ham', 'Brighton', 'Newcastle Utd',\n",
       "       'Everton', 'Manchester City'], dtype=object)"
      ]
     },
     "execution_count": 3,
     "metadata": {},
     "output_type": "execute_result"
    }
   ],
   "source": [
    "#Look into the opponent column\n",
    "Full_df['Opponent'].unique()"
   ]
  },
  {
   "cell_type": "markdown",
   "metadata": {},
   "source": [
    "We need the following teams: Manchester City, Manchester Utd, Tottenham, Chelsea, Liverpool"
   ]
  },
  {
   "cell_type": "code",
   "execution_count": 4,
   "metadata": {},
   "outputs": [
    {
     "data": {
      "text/html": [
       "<div>\n",
       "<style scoped>\n",
       "    .dataframe tbody tr th:only-of-type {\n",
       "        vertical-align: middle;\n",
       "    }\n",
       "\n",
       "    .dataframe tbody tr th {\n",
       "        vertical-align: top;\n",
       "    }\n",
       "\n",
       "    .dataframe thead th {\n",
       "        text-align: right;\n",
       "    }\n",
       "</style>\n",
       "<table border=\"1\" class=\"dataframe\">\n",
       "  <thead>\n",
       "    <tr style=\"text-align: right;\">\n",
       "      <th></th>\n",
       "      <th>Matchweek</th>\n",
       "      <th>Day</th>\n",
       "      <th>Time</th>\n",
       "      <th>Venue</th>\n",
       "      <th>Attendance</th>\n",
       "      <th>Referee</th>\n",
       "      <th>Opponent</th>\n",
       "      <th>Result</th>\n",
       "      <th>Possession</th>\n",
       "      <th>Goals for</th>\n",
       "      <th>Goals against</th>\n",
       "      <th>Expectec goals</th>\n",
       "      <th>Shots</th>\n",
       "      <th>Shots on target</th>\n",
       "      <th>Passes</th>\n",
       "      <th>Passes completed</th>\n",
       "      <th>Short passes</th>\n",
       "      <th>Medium passes</th>\n",
       "      <th>Long passes</th>\n",
       "      <th>Corners</th>\n",
       "      <th>Tackles</th>\n",
       "      <th>Tackles won</th>\n",
       "      <th>Fouls</th>\n",
       "      <th>Penalties attempted</th>\n",
       "      <th>Penalties made</th>\n",
       "    </tr>\n",
       "  </thead>\n",
       "  <tbody>\n",
       "    <tr>\n",
       "      <th>5</th>\n",
       "      <td>Matchweek 6</td>\n",
       "      <td>Sun</td>\n",
       "      <td>16:30</td>\n",
       "      <td>Away</td>\n",
       "      <td>73,431</td>\n",
       "      <td>Paul Tierney</td>\n",
       "      <td>Manchester Utd</td>\n",
       "      <td>L</td>\n",
       "      <td>60</td>\n",
       "      <td>1</td>\n",
       "      <td>3</td>\n",
       "      <td>1.3</td>\n",
       "      <td>16</td>\n",
       "      <td>3</td>\n",
       "      <td>508</td>\n",
       "      <td>418</td>\n",
       "      <td>206</td>\n",
       "      <td>203</td>\n",
       "      <td>68</td>\n",
       "      <td>5</td>\n",
       "      <td>14</td>\n",
       "      <td>8</td>\n",
       "      <td>9</td>\n",
       "      <td>0</td>\n",
       "      <td>0</td>\n",
       "    </tr>\n",
       "    <tr>\n",
       "      <th>7</th>\n",
       "      <td>Matchweek 9</td>\n",
       "      <td>Sat</td>\n",
       "      <td>12:30</td>\n",
       "      <td>Home</td>\n",
       "      <td>60,278</td>\n",
       "      <td>Anthony Taylor</td>\n",
       "      <td>Tottenham</td>\n",
       "      <td>W</td>\n",
       "      <td>64</td>\n",
       "      <td>3</td>\n",
       "      <td>1</td>\n",
       "      <td>2.4</td>\n",
       "      <td>22</td>\n",
       "      <td>9</td>\n",
       "      <td>613</td>\n",
       "      <td>539</td>\n",
       "      <td>262</td>\n",
       "      <td>277</td>\n",
       "      <td>58</td>\n",
       "      <td>5</td>\n",
       "      <td>14</td>\n",
       "      <td>10</td>\n",
       "      <td>10</td>\n",
       "      <td>0</td>\n",
       "      <td>0</td>\n",
       "    </tr>\n",
       "    <tr>\n",
       "      <th>8</th>\n",
       "      <td>Matchweek 10</td>\n",
       "      <td>Sun</td>\n",
       "      <td>16:30</td>\n",
       "      <td>Home</td>\n",
       "      <td>60,059</td>\n",
       "      <td>Michael Oliver</td>\n",
       "      <td>Liverpool</td>\n",
       "      <td>W</td>\n",
       "      <td>43</td>\n",
       "      <td>3</td>\n",
       "      <td>2</td>\n",
       "      <td>2.7</td>\n",
       "      <td>10</td>\n",
       "      <td>6</td>\n",
       "      <td>417</td>\n",
       "      <td>316</td>\n",
       "      <td>152</td>\n",
       "      <td>168</td>\n",
       "      <td>76</td>\n",
       "      <td>4</td>\n",
       "      <td>16</td>\n",
       "      <td>10</td>\n",
       "      <td>11</td>\n",
       "      <td>1</td>\n",
       "      <td>1</td>\n",
       "    </tr>\n",
       "    <tr>\n",
       "      <th>12</th>\n",
       "      <td>Matchweek 15</td>\n",
       "      <td>Sun</td>\n",
       "      <td>12:00</td>\n",
       "      <td>Away</td>\n",
       "      <td>40,142</td>\n",
       "      <td>Michael Oliver</td>\n",
       "      <td>Chelsea</td>\n",
       "      <td>W</td>\n",
       "      <td>55</td>\n",
       "      <td>1</td>\n",
       "      <td>0</td>\n",
       "      <td>2.1</td>\n",
       "      <td>14</td>\n",
       "      <td>2</td>\n",
       "      <td>494</td>\n",
       "      <td>388</td>\n",
       "      <td>200</td>\n",
       "      <td>200</td>\n",
       "      <td>70</td>\n",
       "      <td>6</td>\n",
       "      <td>17</td>\n",
       "      <td>10</td>\n",
       "      <td>13</td>\n",
       "      <td>0</td>\n",
       "      <td>0</td>\n",
       "    </tr>\n",
       "    <tr>\n",
       "      <th>...</th>\n",
       "      <td>...</td>\n",
       "      <td>...</td>\n",
       "      <td>...</td>\n",
       "      <td>...</td>\n",
       "      <td>...</td>\n",
       "      <td>...</td>\n",
       "      <td>...</td>\n",
       "      <td>...</td>\n",
       "      <td>...</td>\n",
       "      <td>...</td>\n",
       "      <td>...</td>\n",
       "      <td>...</td>\n",
       "      <td>...</td>\n",
       "      <td>...</td>\n",
       "      <td>...</td>\n",
       "      <td>...</td>\n",
       "      <td>...</td>\n",
       "      <td>...</td>\n",
       "      <td>...</td>\n",
       "      <td>...</td>\n",
       "      <td>...</td>\n",
       "      <td>...</td>\n",
       "      <td>...</td>\n",
       "      <td>...</td>\n",
       "      <td>...</td>\n",
       "    </tr>\n",
       "    <tr>\n",
       "      <th>21</th>\n",
       "      <td>Matchweek 12</td>\n",
       "      <td>Wed</td>\n",
       "      <td>19:30</td>\n",
       "      <td>Home</td>\n",
       "      <td>60,276</td>\n",
       "      <td>Anthony Taylor</td>\n",
       "      <td>Manchester City</td>\n",
       "      <td>L</td>\n",
       "      <td>63</td>\n",
       "      <td>1</td>\n",
       "      <td>3</td>\n",
       "      <td>1.6</td>\n",
       "      <td>9</td>\n",
       "      <td>0</td>\n",
       "      <td>569</td>\n",
       "      <td>466</td>\n",
       "      <td>207</td>\n",
       "      <td>257</td>\n",
       "      <td>78</td>\n",
       "      <td>1</td>\n",
       "      <td>13</td>\n",
       "      <td>5</td>\n",
       "      <td>11</td>\n",
       "      <td>1</td>\n",
       "      <td>1</td>\n",
       "    </tr>\n",
       "    <tr>\n",
       "      <th>29</th>\n",
       "      <td>Matchweek 30</td>\n",
       "      <td>Sun</td>\n",
       "      <td>16:30</td>\n",
       "      <td>Away</td>\n",
       "      <td>53,267</td>\n",
       "      <td>Paul Tierney</td>\n",
       "      <td>Liverpool</td>\n",
       "      <td>D</td>\n",
       "      <td>41</td>\n",
       "      <td>2</td>\n",
       "      <td>2</td>\n",
       "      <td>1.4</td>\n",
       "      <td>9</td>\n",
       "      <td>5</td>\n",
       "      <td>399</td>\n",
       "      <td>301</td>\n",
       "      <td>161</td>\n",
       "      <td>137</td>\n",
       "      <td>80</td>\n",
       "      <td>4</td>\n",
       "      <td>21</td>\n",
       "      <td>11</td>\n",
       "      <td>11</td>\n",
       "      <td>0</td>\n",
       "      <td>0</td>\n",
       "    </tr>\n",
       "    <tr>\n",
       "      <th>32</th>\n",
       "      <td>Matchweek 33</td>\n",
       "      <td>Wed</td>\n",
       "      <td>20:00</td>\n",
       "      <td>Away</td>\n",
       "      <td>53,482</td>\n",
       "      <td>Michael Oliver</td>\n",
       "      <td>Manchester City</td>\n",
       "      <td>L</td>\n",
       "      <td>48</td>\n",
       "      <td>1</td>\n",
       "      <td>4</td>\n",
       "      <td>0.5</td>\n",
       "      <td>8</td>\n",
       "      <td>2</td>\n",
       "      <td>481</td>\n",
       "      <td>400</td>\n",
       "      <td>194</td>\n",
       "      <td>216</td>\n",
       "      <td>60</td>\n",
       "      <td>3</td>\n",
       "      <td>10</td>\n",
       "      <td>4</td>\n",
       "      <td>13</td>\n",
       "      <td>0</td>\n",
       "      <td>0</td>\n",
       "    </tr>\n",
       "    <tr>\n",
       "      <th>33</th>\n",
       "      <td>Matchweek 34</td>\n",
       "      <td>Tue</td>\n",
       "      <td>20:00</td>\n",
       "      <td>Home</td>\n",
       "      <td>60,144</td>\n",
       "      <td>Robert Jones</td>\n",
       "      <td>Chelsea</td>\n",
       "      <td>W</td>\n",
       "      <td>55</td>\n",
       "      <td>3</td>\n",
       "      <td>1</td>\n",
       "      <td>1.7</td>\n",
       "      <td>16</td>\n",
       "      <td>9</td>\n",
       "      <td>577</td>\n",
       "      <td>485</td>\n",
       "      <td>239</td>\n",
       "      <td>239</td>\n",
       "      <td>61</td>\n",
       "      <td>7</td>\n",
       "      <td>12</td>\n",
       "      <td>4</td>\n",
       "      <td>10</td>\n",
       "      <td>0</td>\n",
       "      <td>0</td>\n",
       "    </tr>\n",
       "  </tbody>\n",
       "</table>\n",
       "<p>10 rows × 25 columns</p>\n",
       "</div>"
      ],
      "text/plain": [
       "       Matchweek  Day   Time Venue Attendance         Referee  \\\n",
       "5    Matchweek 6  Sun  16:30  Away     73,431    Paul Tierney   \n",
       "7    Matchweek 9  Sat  12:30  Home     60,278  Anthony Taylor   \n",
       "8   Matchweek 10  Sun  16:30  Home     60,059  Michael Oliver   \n",
       "12  Matchweek 15  Sun  12:00  Away     40,142  Michael Oliver   \n",
       "..           ...  ...    ...   ...        ...             ...   \n",
       "21  Matchweek 12  Wed  19:30  Home     60,276  Anthony Taylor   \n",
       "29  Matchweek 30  Sun  16:30  Away     53,267    Paul Tierney   \n",
       "32  Matchweek 33  Wed  20:00  Away     53,482  Michael Oliver   \n",
       "33  Matchweek 34  Tue  20:00  Home     60,144    Robert Jones   \n",
       "\n",
       "           Opponent Result  Possession  Goals for  Goals against  \\\n",
       "5    Manchester Utd      L          60          1              3   \n",
       "7         Tottenham      W          64          3              1   \n",
       "8         Liverpool      W          43          3              2   \n",
       "12          Chelsea      W          55          1              0   \n",
       "..              ...    ...         ...        ...            ...   \n",
       "21  Manchester City      L          63          1              3   \n",
       "29        Liverpool      D          41          2              2   \n",
       "32  Manchester City      L          48          1              4   \n",
       "33          Chelsea      W          55          3              1   \n",
       "\n",
       "    Expectec goals  Shots  Shots on target  Passes  Passes completed  \\\n",
       "5              1.3     16                3     508               418   \n",
       "7              2.4     22                9     613               539   \n",
       "8              2.7     10                6     417               316   \n",
       "12             2.1     14                2     494               388   \n",
       "..             ...    ...              ...     ...               ...   \n",
       "21             1.6      9                0     569               466   \n",
       "29             1.4      9                5     399               301   \n",
       "32             0.5      8                2     481               400   \n",
       "33             1.7     16                9     577               485   \n",
       "\n",
       "    Short passes  Medium passes  Long passes  Corners  Tackles  Tackles won  \\\n",
       "5            206            203           68        5       14            8   \n",
       "7            262            277           58        5       14           10   \n",
       "8            152            168           76        4       16           10   \n",
       "12           200            200           70        6       17           10   \n",
       "..           ...            ...          ...      ...      ...          ...   \n",
       "21           207            257           78        1       13            5   \n",
       "29           161            137           80        4       21           11   \n",
       "32           194            216           60        3       10            4   \n",
       "33           239            239           61        7       12            4   \n",
       "\n",
       "    Fouls  Penalties attempted  Penalties made  \n",
       "5       9                    0               0  \n",
       "7      10                    0               0  \n",
       "8      11                    1               1  \n",
       "12     13                    0               0  \n",
       "..    ...                  ...             ...  \n",
       "21     11                    1               1  \n",
       "29     11                    0               0  \n",
       "32     13                    0               0  \n",
       "33     10                    0               0  \n",
       "\n",
       "[10 rows x 25 columns]"
      ]
     },
     "execution_count": 4,
     "metadata": {},
     "output_type": "execute_result"
    }
   ],
   "source": [
    "#Create the the list containing the team names as they are written in the dataframe\n",
    "Top_6=['Manchester City','Manchester Utd','Chelsea','Liverpool','Tottenham']\n",
    "#Create a filter\n",
    "Filter= Full_df['Opponent'].isin(Top_6)\n",
    "#Pass the filter to the full dataframe\n",
    "Full_df[Filter]"
   ]
  },
  {
   "cell_type": "markdown",
   "metadata": {},
   "source": [
    "Now that we have made a filter. Let's create a new dataframe containing only the data we need"
   ]
  },
  {
   "cell_type": "code",
   "execution_count": 5,
   "metadata": {},
   "outputs": [],
   "source": [
    "#Create the new dataframe\n",
    "df= Full_df[Filter]"
   ]
  },
  {
   "cell_type": "markdown",
   "metadata": {},
   "source": [
    "Now, let's have a look at the columns and their types for any needed transformation "
   ]
  },
  {
   "cell_type": "code",
   "execution_count": 6,
   "metadata": {},
   "outputs": [
    {
     "name": "stdout",
     "output_type": "stream",
     "text": [
      "<class 'pandas.core.frame.DataFrame'>\n",
      "Int64Index: 10 entries, 5 to 33\n",
      "Data columns (total 25 columns):\n",
      " #   Column               Non-Null Count  Dtype  \n",
      "---  ------               --------------  -----  \n",
      " 0   Matchweek            10 non-null     object \n",
      " 1   Day                  10 non-null     object \n",
      " 2   Time                 10 non-null     object \n",
      " 3   Venue                10 non-null     object \n",
      " 4   Attendance           10 non-null     object \n",
      " 5   Referee              10 non-null     object \n",
      " 6   Opponent             10 non-null     object \n",
      " 7   Result               10 non-null     object \n",
      " 8   Possession           10 non-null     int64  \n",
      " 9   Goals for            10 non-null     int64  \n",
      " 10  Goals against        10 non-null     int64  \n",
      " 11  Expectec goals       10 non-null     float64\n",
      " 12  Shots                10 non-null     int64  \n",
      " 13  Shots on target      10 non-null     int64  \n",
      " 14  Passes               10 non-null     int64  \n",
      " 15  Passes completed     10 non-null     int64  \n",
      " 16  Short passes         10 non-null     int64  \n",
      " 17  Medium passes        10 non-null     int64  \n",
      " 18  Long passes          10 non-null     int64  \n",
      " 19  Corners              10 non-null     int64  \n",
      " 20  Tackles              10 non-null     int64  \n",
      " 21  Tackles won          10 non-null     int64  \n",
      " 22  Fouls                10 non-null     int64  \n",
      " 23  Penalties attempted  10 non-null     int64  \n",
      " 24  Penalties made       10 non-null     int64  \n",
      "dtypes: float64(1), int64(16), object(8)\n",
      "memory usage: 2.0+ KB\n"
     ]
    }
   ],
   "source": [
    "df.info()"
   ]
  },
  {
   "cell_type": "markdown",
   "metadata": {},
   "source": [
    "From the following output, we can classify the changes that need to be made as the following: \n",
    "* The columns Day and Result can be transformed from object to category to improve and optimize the performance.\n",
    "* The column Attendance is more appropriate being an integer rather than an object to perform numerical aggregations.\n",
    "\n",
    "Further changes can be made to make the performance better. For example, the integer columns can be changed from 64 bit to 16 or 8 since they don't contain a large range of numbers but since this is already a small dataset, it's not necessary, yet it's worth noting that it's a beneficial habit to embed in your workflow "
   ]
  },
  {
   "cell_type": "code",
   "execution_count": 7,
   "metadata": {},
   "outputs": [
    {
     "name": "stderr",
     "output_type": "stream",
     "text": [
      "C:\\Users\\B InfoSoft\\AppData\\Local\\Temp\\ipykernel_12696\\1138655964.py:2: SettingWithCopyWarning: \n",
      "A value is trying to be set on a copy of a slice from a DataFrame.\n",
      "Try using .loc[row_indexer,col_indexer] = value instead\n",
      "\n",
      "See the caveats in the documentation: https://pandas.pydata.org/pandas-docs/stable/user_guide/indexing.html#returning-a-view-versus-a-copy\n",
      "  df['Day']=df['Day'].astype('category')\n",
      "C:\\Users\\B InfoSoft\\AppData\\Local\\Temp\\ipykernel_12696\\1138655964.py:3: SettingWithCopyWarning: \n",
      "A value is trying to be set on a copy of a slice from a DataFrame.\n",
      "Try using .loc[row_indexer,col_indexer] = value instead\n",
      "\n",
      "See the caveats in the documentation: https://pandas.pydata.org/pandas-docs/stable/user_guide/indexing.html#returning-a-view-versus-a-copy\n",
      "  df['Result']=df['Result'].astype('category')\n",
      "C:\\Users\\B InfoSoft\\AppData\\Local\\Temp\\ipykernel_12696\\1138655964.py:5: SettingWithCopyWarning: \n",
      "A value is trying to be set on a copy of a slice from a DataFrame.\n",
      "Try using .loc[row_indexer,col_indexer] = value instead\n",
      "\n",
      "See the caveats in the documentation: https://pandas.pydata.org/pandas-docs/stable/user_guide/indexing.html#returning-a-view-versus-a-copy\n",
      "  df['Attendance']=df['Attendance'].str.replace(',','').astype(int)\n"
     ]
    }
   ],
   "source": [
    "#Change the type of columns\n",
    "df['Day']=df['Day'].astype('category')\n",
    "df['Result']=df['Result'].astype('category')\n",
    "\n",
    "df['Attendance']=df['Attendance'].str.replace(',','').astype(int)"
   ]
  },
  {
   "cell_type": "markdown",
   "metadata": {},
   "source": [
    "Now that the dataframe is ready for analysis. We are going to perform some comparison between the performance vs the top 6. The following insights that I'm aiming to extract are: \n",
    "* The number of goals Arsenal scored vs the top six \n",
    "* The number of goals Arsenal scored vs the top six \n",
    "* The number of wins, draws and losses vs the top six \n",
    "* The total amount of points gained vs the top six teams \n",
    "* The total number of attendances \n",
    "* The average possession percentage vs the top six \n",
    "* The average passes made vs the top six \n",
    "* The average expected goals vs top six \n",
    "* The match result based on the opponents \n",
    "* The match result based on the venue \n",
    "* The percentage of goals for against top 6 from the total goals scored \n",
    "* The percentage of goals against against top 6 from the total goals conceded \n",
    "* The average possession vs the top six compared to the overall average possession \n",
    "* The average of goals scored and conceded against top six compared to the total average \n",
    "* The shot accuracy percentage \n",
    "* The passing accuracy percentage \n",
    "* The percentage of attendences for the top 6 teams compared to the total number of attendances\n",
    "\n",
    "I already have data available for the overall stats from a previous project I have made so all that is left is comparing the data and see any useful insights.\n"
   ]
  },
  {
   "cell_type": "markdown",
   "metadata": {},
   "source": [
    "First off, let's create a filter for home matches and away matches since it's going to be used on a number of insights we listed"
   ]
  },
  {
   "cell_type": "code",
   "execution_count": 8,
   "metadata": {},
   "outputs": [],
   "source": [
    "#Creating a home filter\n",
    "Home_matches= df['Venue']=='Home'\n",
    "#Creating an away filter\n",
    "Away_matches= df['Venue']=='Away'"
   ]
  },
  {
   "cell_type": "code",
   "execution_count": 9,
   "metadata": {},
   "outputs": [
    {
     "data": {
      "text/html": [
       "<div>\n",
       "<style scoped>\n",
       "    .dataframe tbody tr th:only-of-type {\n",
       "        vertical-align: middle;\n",
       "    }\n",
       "\n",
       "    .dataframe tbody tr th {\n",
       "        vertical-align: top;\n",
       "    }\n",
       "\n",
       "    .dataframe thead th {\n",
       "        text-align: right;\n",
       "    }\n",
       "</style>\n",
       "<table border=\"1\" class=\"dataframe\">\n",
       "  <thead>\n",
       "    <tr style=\"text-align: right;\">\n",
       "      <th></th>\n",
       "      <th>Attendance</th>\n",
       "      <th>Possession</th>\n",
       "      <th>Goals for</th>\n",
       "      <th>Goals against</th>\n",
       "      <th>Expectec goals</th>\n",
       "      <th>Shots</th>\n",
       "      <th>Shots on target</th>\n",
       "      <th>Passes</th>\n",
       "      <th>Passes completed</th>\n",
       "      <th>Short passes</th>\n",
       "      <th>Medium passes</th>\n",
       "      <th>Long passes</th>\n",
       "      <th>Corners</th>\n",
       "      <th>Tackles</th>\n",
       "      <th>Tackles won</th>\n",
       "      <th>Fouls</th>\n",
       "      <th>Penalties attempted</th>\n",
       "      <th>Penalties made</th>\n",
       "    </tr>\n",
       "  </thead>\n",
       "  <tbody>\n",
       "    <tr>\n",
       "      <th>sum</th>\n",
       "      <td>583274.0</td>\n",
       "      <td>535.0</td>\n",
       "      <td>20.0</td>\n",
       "      <td>18.0</td>\n",
       "      <td>18.60</td>\n",
       "      <td>143.0</td>\n",
       "      <td>46.0</td>\n",
       "      <td>5107.0</td>\n",
       "      <td>4158.0</td>\n",
       "      <td>2089.0</td>\n",
       "      <td>2105.0</td>\n",
       "      <td>668.0</td>\n",
       "      <td>50.0</td>\n",
       "      <td>151.0</td>\n",
       "      <td>84.0</td>\n",
       "      <td>111.0</td>\n",
       "      <td>2.0</td>\n",
       "      <td>2.0</td>\n",
       "    </tr>\n",
       "    <tr>\n",
       "      <th>mean</th>\n",
       "      <td>58327.4</td>\n",
       "      <td>53.5</td>\n",
       "      <td>2.0</td>\n",
       "      <td>1.8</td>\n",
       "      <td>1.86</td>\n",
       "      <td>14.3</td>\n",
       "      <td>4.6</td>\n",
       "      <td>510.7</td>\n",
       "      <td>415.8</td>\n",
       "      <td>208.9</td>\n",
       "      <td>210.5</td>\n",
       "      <td>66.8</td>\n",
       "      <td>5.0</td>\n",
       "      <td>15.1</td>\n",
       "      <td>8.4</td>\n",
       "      <td>11.1</td>\n",
       "      <td>0.2</td>\n",
       "      <td>0.2</td>\n",
       "    </tr>\n",
       "  </tbody>\n",
       "</table>\n",
       "</div>"
      ],
      "text/plain": [
       "      Attendance  Possession  Goals for  Goals against  Expectec goals  Shots  \\\n",
       "sum     583274.0       535.0       20.0           18.0           18.60  143.0   \n",
       "mean     58327.4        53.5        2.0            1.8            1.86   14.3   \n",
       "\n",
       "      Shots on target  Passes  Passes completed  Short passes  Medium passes  \\\n",
       "sum              46.0  5107.0            4158.0        2089.0         2105.0   \n",
       "mean              4.6   510.7             415.8         208.9          210.5   \n",
       "\n",
       "      Long passes  Corners  Tackles  Tackles won  Fouls  Penalties attempted  \\\n",
       "sum         668.0     50.0    151.0         84.0  111.0                  2.0   \n",
       "mean         66.8      5.0     15.1          8.4   11.1                  0.2   \n",
       "\n",
       "      Penalties made  \n",
       "sum              2.0  \n",
       "mean             0.2  "
      ]
     },
     "execution_count": 9,
     "metadata": {},
     "output_type": "execute_result"
    }
   ],
   "source": [
    "#Create a filter for numerical columns only to perform aggregate functions\n",
    "numerical_columns = df.select_dtypes(include=['int', 'float'])\n",
    "#Create a view for the aggregate functions sum and mean\n",
    "numerical_columns.aggregate(['sum','mean'])"
   ]
  },
  {
   "cell_type": "markdown",
   "metadata": {},
   "source": [
    "A portion  of the questions we listed above fall in the bin of either sum (total) or mean (average). Let's have a look at the following output: \n",
    "* Arsenal managed to score 20 goals versus the top six teams and conceded 18, resulting in a goal difference of a positive 2.\n",
    "* Arsenal culminated a total attendance record of 583k spectators in the 10 matches against the top teams.\n",
    "* Arsenal had an average possession of 53.5, meaning that they had a small edge in ball controlling terms.\n",
    "* On average, Arsenal had an XG performance of 1.8 ,suggesting that the team had a solid offensive effort against the top 6 teams from various variables like attacking tactics, player positioning, and overall gameplay were effective in generating high quality scoring chances."
   ]
  },
  {
   "cell_type": "code",
   "execution_count": 10,
   "metadata": {},
   "outputs": [
    {
     "data": {
      "text/plain": [
       "W    6\n",
       "L    3\n",
       "D    1\n",
       "Name: Result, dtype: int64"
      ]
     },
     "execution_count": 10,
     "metadata": {},
     "output_type": "execute_result"
    }
   ],
   "source": [
    "#Calculation the results versus the top teams\n",
    "df['Result'].value_counts()"
   ]
  },
  {
   "cell_type": "markdown",
   "metadata": {},
   "source": [
    "* From the 10 matches against the top six teams, Arsenal won more than half the matches, 6 matches in total. \n",
    "* Arsenal lost 6 matches during the season, half of which were against the big teams. \n",
    "* Only one draw was recorded against the top six."
   ]
  },
  {
   "cell_type": "code",
   "execution_count": 11,
   "metadata": {},
   "outputs": [
    {
     "name": "stderr",
     "output_type": "stream",
     "text": [
      "C:\\Users\\B InfoSoft\\AppData\\Local\\Temp\\ipykernel_12696\\2866080438.py:3: MatplotlibDeprecationWarning: The seaborn styles shipped by Matplotlib are deprecated since 3.6, as they no longer correspond to the styles shipped by seaborn. However, they will remain available as 'seaborn-v0_8-<style>'. Alternatively, directly use the seaborn API instead.\n",
      "  plt.style.use('seaborn')\n"
     ]
    },
    {
     "data": {
      "image/png": "[encoded data removed]",
      "text/plain": [
       "<Figure size 800x550 with 1 Axes>"
      ]
     },
     "metadata": {},
     "output_type": "display_data"
    }
   ],
   "source": [
    "#Pie chart representing the results of the matches\n",
    "\n",
    "plt.style.use('seaborn')\n",
    "\n",
    "Results=df['Result'].value_counts().tolist()\n",
    "Colors = ['#DB0007','#9C824A', '#023474']\n",
    "Labels= ['Wins','Losses','Draws']\n",
    "\n",
    "plt.pie(Results,labels=Labels,colors=Colors,wedgeprops={'edgecolor':'black'},shadow=True,autopct='%1.1f%%',\n",
    "        explode=[0.09,0,0])\n",
    "\n",
    "plt.legend()\n",
    "\n",
    "plt.title('The distribution of results vs. the top six',fontdict={'fontname':'Century Gothic','size':15,'color':'#9C824A'})\n",
    "\n",
    "plt.tight_layout()\n",
    "plt.show()"
   ]
  },
  {
   "cell_type": "code",
   "execution_count": 12,
   "metadata": {},
   "outputs": [
    {
     "name": "stderr",
     "output_type": "stream",
     "text": [
      "C:\\Users\\B InfoSoft\\AppData\\Local\\Temp\\ipykernel_12696\\1417208088.py:2: SettingWithCopyWarning: \n",
      "A value is trying to be set on a copy of a slice from a DataFrame.\n",
      "Try using .loc[row_indexer,col_indexer] = value instead\n",
      "\n",
      "See the caveats in the documentation: https://pandas.pydata.org/pandas-docs/stable/user_guide/indexing.html#returning-a-view-versus-a-copy\n",
      "  df['Points gained']=df['Result'].map({'W':3,'D':1,'L':0}).astype(int)\n"
     ]
    },
    {
     "data": {
      "text/plain": [
       "19"
      ]
     },
     "execution_count": 12,
     "metadata": {},
     "output_type": "execute_result"
    }
   ],
   "source": [
    "#Create a column of points gained from each match\n",
    "df['Points gained']=df['Result'].map({'W':3,'D':1,'L':0}).astype(int)\n",
    "df['Points gained'].sum()"
   ]
  },
  {
   "cell_type": "markdown",
   "metadata": {},
   "source": [
    "Out of 10 matches, Arsenal picked up 19 points"
   ]
  },
  {
   "cell_type": "code",
   "execution_count": 13,
   "metadata": {},
   "outputs": [
    {
     "data": {
      "text/plain": [
       "Opponent         Result\n",
       "Chelsea          W         2\n",
       "Manchester City  L         2\n",
       "Tottenham        W         2\n",
       "Liverpool        D         1\n",
       "                 W         1\n",
       "Manchester Utd   L         1\n",
       "                 W         1\n",
       "dtype: int64"
      ]
     },
     "execution_count": 13,
     "metadata": {},
     "output_type": "execute_result"
    }
   ],
   "source": [
    "#Calculating the results based on the opponent and venue\n",
    "\n",
    "df[['Opponent','Result']].value_counts()"
   ]
  },
  {
   "cell_type": "markdown",
   "metadata": {},
   "source": [
    "Based on the following output we can conclude to: \n",
    "* Arsenal managed to do the double on chelsea and Tottenham, winning both in the home and away matches.\n",
    "* Manchester City did the double on Arsenal, winning against the Gunners in both occasions which was a vital point to win the league.\n",
    "* Arsenal managed to win against Liverpool in the home fixture and also scrapped out a 2-2 draw in the away fixture.\n",
    "* Arsenal and Manchester United both got 3 points from each other with Arsenal losing the away fixture 3-1 then making a comeback in the Emirates to win 3-2"
   ]
  },
  {
   "cell_type": "code",
   "execution_count": 26,
   "metadata": {},
   "outputs": [
    {
     "data": {
      "image/png": "[encoded data removed]",
      "text/plain": [
       "<Figure size 800x550 with 1 Axes>"
      ]
     },
     "metadata": {},
     "output_type": "display_data"
    }
   ],
   "source": [
    "plt.style.use('ggplot')\n",
    "\n",
    "# colors = ['#9C824A','#DB0007', '#023474']\n",
    "\n",
    "Teams = df['Opponent'].tolist()\n",
    "Goals_scored = df['Goals for'].tolist()\n",
    "Goals_conceded = df['Goals against'].tolist()\n",
    "\n",
    "Team_goals_scored = {}\n",
    "Team_goals_conceded = {}\n",
    "\n",
    "for team, goal in zip(Teams, Goals_scored):\n",
    "    if team not in Team_goals_scored:\n",
    "        Team_goals_scored[team] = []\n",
    "    Team_goals_scored[team].append(goal)\n",
    "\n",
    "\n",
    "for team, goal in zip(Teams, Goals_conceded):\n",
    "    if team not in Team_goals_conceded:\n",
    "        Team_goals_conceded[team] = []\n",
    "    Team_goals_conceded[team].append(goal)\n",
    "\n",
    "Total_goals_scored = [sum(Team_goals_scored_list) for Team_goals_scored_list in Team_goals_scored.values()]\n",
    "Total_goals_conceded = [sum(Team_goals_conceded_list) for Team_goals_conceded_list in Team_goals_conceded.values()]\n",
    "\n",
    "x_indexes=np.arange(1,6)\n",
    "width=0.3\n",
    "\n",
    "plt.bar(x_indexes, Total_goals_scored, label='Goals scored', color='#023474',width=width)\n",
    "plt.bar(x_indexes-width, Total_goals_conceded, label='Goals conceded', color='#DB0007',width=width)\n",
    "\n",
    "\n",
    "plt.xlabel('Teams',fontdict={'fontname': 'Century Gothic', 'size': 15, 'color': '#9C824A'})\n",
    "plt.xticks(ticks=x_indexes,labels=Team_goals_conceded.keys())\n",
    "plt.ylabel('Goals',fontdict={'fontname': 'Century Gothic', 'size': 15, 'color': '#9C824A'})\n",
    "plt.title('Distribution of goals scored and conceded based on the opponent',\n",
    "          fontdict={'fontname': 'Century Gothic', 'size': 15, 'color': '#9C824A'})\n",
    "plt.legend()\n",
    "\n",
    "plt.tight_layout()\n",
    "plt.show()"
   ]
  },
  {
   "cell_type": "code",
   "execution_count": 14,
   "metadata": {},
   "outputs": [
    {
     "data": {
      "text/plain": [
       "W    4\n",
       "L    1\n",
       "D    0\n",
       "Name: Result, dtype: int64"
      ]
     },
     "execution_count": 14,
     "metadata": {},
     "output_type": "execute_result"
    }
   ],
   "source": [
    "df[Home_matches]['Result'].value_counts()"
   ]
  },
  {
   "cell_type": "markdown",
   "metadata": {},
   "source": [
    "Arsenal had a solid and an almost perfect winning record against the top six in the Emirates, where they picked up 4 wins and had only one loss which was against Manchester City"
   ]
  },
  {
   "cell_type": "code",
   "execution_count": 15,
   "metadata": {},
   "outputs": [
    {
     "data": {
      "text/plain": [
       "L    2\n",
       "W    2\n",
       "D    1\n",
       "Name: Result, dtype: int64"
      ]
     },
     "execution_count": 15,
     "metadata": {},
     "output_type": "execute_result"
    }
   ],
   "source": [
    "df[Away_matches]['Result'].value_counts()"
   ]
  },
  {
   "cell_type": "markdown",
   "metadata": {},
   "source": [
    "In away terms, Arsenal picked up two wins, one in Stanford Bridge against Chelsea and the other against Tottenham. The two losses came from the two Manchester teams, City and United, while the draw was picked up in Anfield against Liverpool"
   ]
  },
  {
   "cell_type": "code",
   "execution_count": 16,
   "metadata": {},
   "outputs": [
    {
     "name": "stdout",
     "output_type": "stream",
     "text": [
      "The percentage of goals scored vs the top six is: 22.727272727272727\n",
      "The percentage of goals conceded vs the top six is: 41.86046511627907\n"
     ]
    }
   ],
   "source": [
    "# Calculationg some percentages\n",
    "\n",
    "Total_goals_for= 88\n",
    "Total_goals_against=43\n",
    "\n",
    "Goal_for_percentage= (df['Goals for'].sum()/ Total_goals_for)* 100\n",
    "Goal_against_percentage= (df['Goals against'].sum()/ Total_goals_against)* 100\n",
    "\n",
    "print(f'The percentage of goals scored vs the top six is: {Goal_for_percentage}')\n",
    "print(f'The percentage of goals conceded vs the top six is: {Goal_against_percentage}')"
   ]
  },
  {
   "cell_type": "markdown",
   "metadata": {},
   "source": [
    "* Out of the 88 goals Arsenal scored in the season, 22% of them were scored against the top teams in the Premier League.\n",
    "* Out of the 43 goals Arsenal conceded in the season, 41% of them were conceded against the top six, suggesting that the 10 matches against the top six culminated in almost half of the total goals conceded in the season"
   ]
  },
  {
   "cell_type": "markdown",
   "metadata": {},
   "source": [
    "During my previous analysis on the season as a whole. Arsenal averaged a possession percentage of 59%. Compared to the 53% we extracted earlier, we can conclude to the fact that Arsenal had less of a dominance in the matches against the top six when put against the total average."
   ]
  },
  {
   "cell_type": "code",
   "execution_count": 17,
   "metadata": {},
   "outputs": [
    {
     "data": {
      "text/plain": [
       "(2.0, 1.8)"
      ]
     },
     "execution_count": 17,
     "metadata": {},
     "output_type": "execute_result"
    }
   ],
   "source": [
    "#Comparing the averages of the goals scored and conceded between the top six and the entire season\n",
    "\n",
    "Total_for_avg=2.31\n",
    "Total_against_avg= 1.13\n",
    "\n",
    "df['Goals for'].mean(),df['Goals against'].mean()\n"
   ]
  },
  {
   "cell_type": "markdown",
   "metadata": {},
   "source": [
    "* The average of goals scored during the entire season is 2.31 and for the top teams specifically it's 2 on the dot, meaning that offensively, Arsenal performed just as well against the top six when comparated to the season as a whole.\n",
    "* The case for the conceded goals is different as against the top six teams, Arsenal had an average of 1.8 goals scored against them which is significantly higher than the overall average which stands at 1.13."
   ]
  },
  {
   "cell_type": "code",
   "execution_count": 18,
   "metadata": {},
   "outputs": [
    {
     "data": {
      "text/plain": [
       "32.16783216783217"
      ]
     },
     "execution_count": 18,
     "metadata": {},
     "output_type": "execute_result"
    }
   ],
   "source": [
    "#Calculating the shot accuracy\n",
    "\n",
    "Total_shots=df['Shots'].sum()\n",
    "Total_shots_on_target=df['Shots on target'].sum()\n",
    "\n",
    "Shot_accuracy= (Total_shots_on_target / Total_shots) * 100\n",
    "\n",
    "Shot_accuracy"
   ]
  },
  {
   "cell_type": "markdown",
   "metadata": {},
   "source": [
    "Arsenal had a shot accuracy of 32%. They had culminated 143 shots against the top six teams and out of those total shots, 46 of them were on target. We can conclude to the fact that Arsenal's offensive outputs were of great caliber."
   ]
  },
  {
   "cell_type": "code",
   "execution_count": 28,
   "metadata": {},
   "outputs": [
    {
     "data": {
      "image/png": "[encoded data removed]",
      "text/plain": [
       "<Figure size 800x550 with 2 Axes>"
      ]
     },
     "metadata": {},
     "output_type": "display_data"
    }
   ],
   "source": [
    "# Scatter plot for goals scored and expected goals\n",
    "\n",
    "Expected_goals=df['Expectec goals'].tolist()\n",
    "Shots=df['Shots'].tolist()\n",
    "\n",
    "Sizes=np.random.randint(80,300,10)\n",
    "\n",
    "plt.scatter(Expected_goals,Shots,edgecolors='black',linewidth=1,s=Sizes,c=Goals_scored,cmap='summer')\n",
    "\n",
    "cbar=plt.colorbar()\n",
    "cbar.set_label('Goals scored')\n",
    "\n",
    "\n",
    "plt.title('Attacking performance for Arsenal',fontdict={'fontname':'Century Gothic','size':15,'color':'#023474'})\n",
    "plt.xlabel('Expected goals',fontdict={'fontname':'Century Gothic','size':12,'color':'#023474'})\n",
    "plt.ylabel('Shots',fontdict={'fontname':'Century Gothic','size':12,'color':'#023474'})\n",
    "\n",
    "plt.tight_layout()\n",
    "plt.show()"
   ]
  },
  {
   "cell_type": "code",
   "execution_count": 19,
   "metadata": {},
   "outputs": [
    {
     "data": {
      "text/plain": [
       "81.4176620325044"
      ]
     },
     "execution_count": 19,
     "metadata": {},
     "output_type": "execute_result"
    }
   ],
   "source": [
    "#Calculating the passing accuracy\n",
    "\n",
    "Total_passes=df['Passes'].sum()\n",
    "Total_completed_passes=df['Passes completed'].sum()\n",
    "\n",
    "Pass_accuracy= (Total_completed_passes / Total_passes) * 100\n",
    "\n",
    "Pass_accuracy"
   ]
  },
  {
   "cell_type": "markdown",
   "metadata": {},
   "source": [
    "Arsenal had a passing accuracy of 81%. This reflects the quality they had in midfield from players such as Partey, Xhaka and Ødegaard. This stat also ties into the possession average where they had a slight advantage in dominating the ball and controlling the ball."
   ]
  },
  {
   "cell_type": "code",
   "execution_count": 29,
   "metadata": {},
   "outputs": [
    {
     "data": {
      "image/png": "[encoded data removed]",
      "text/plain": [
       "<Figure size 800x550 with 1 Axes>"
      ]
     },
     "metadata": {},
     "output_type": "display_data"
    }
   ],
   "source": [
    "#Line graph representing the possession\n",
    "plt.style.use('fivethirtyeight')\n",
    "\n",
    "Possession=df['Possession'].tolist()\n",
    "Matchweeks=df['Matchweek'].tolist()\n",
    "Ticks=[]\n",
    "Colors = ['#DB0007','#9C824A', '#023474']\n",
    "\n",
    "Average_poss=df['Possession'].mean()\n",
    "\n",
    "for x in range(len(Matchweeks)):\n",
    "    match=Matchweeks[x][10:12]\n",
    "    Ticks.append(match)\n",
    "\n",
    "plt.plot(Matchweeks,Possession,label='Poseession',color=Colors[0],marker='o',linewidth=2.5\n",
    "         ,markeredgecolor='green',markersize=8)\n",
    "\n",
    "plt.fill_between(Matchweeks,df['Possession'],Average_poss,alpha=0.45,where=(Possession>Average_poss),\n",
    "                 interpolate=True,color='#9C824A',label='Above average')\n",
    "plt.fill_between(Matchweeks,df['Possession'],Average_poss,alpha=0.45,where=(Possession<Average_poss),\n",
    "                 interpolate=True,color='#023474',label='Below average')\n",
    "\n",
    "plt.title('Possession percentage vs. the top six',fontdict={'fontname':'Century Gothic','size':15,'color':'#9C824A'})\n",
    "plt.ylabel('Possession percentage',fontdict={'fontname':'Century Gothic','size':12,'color':'#9C824A'})\n",
    "plt.xlabel('Matchweek',fontdict={'fontname':'Century Gothic','size':12,'color':'#9C824A'})\n",
    "\n",
    "plt.xticks(ticks=Matchweeks,labels=Ticks)\n",
    "\n",
    "plt.legend()\n",
    "\n",
    "plt.tight_layout()\n",
    "plt.show()"
   ]
  },
  {
   "cell_type": "code",
   "execution_count": 20,
   "metadata": {},
   "outputs": [
    {
     "data": {
      "text/plain": [
       "30.81117344405354"
      ]
     },
     "execution_count": 20,
     "metadata": {},
     "output_type": "execute_result"
    }
   ],
   "source": [
    "#Calculating the percentage of attendances\n",
    "\n",
    "Total_attendance= 1893060\n",
    "Top_6_attendance= df['Attendance'].sum()\n",
    "\n",
    "Attendance_percentage= (Top_6_attendance / Total_attendance) * 100\n",
    "\n",
    "Attendance_percentage"
   ]
  },
  {
   "cell_type": "markdown",
   "metadata": {},
   "source": [
    "Arsenal had 10 matches against the top six and they represented about 30% of the total attendance percentage. The fact that the top six matches represented around 30% of the total attendance percentage emphasizes the impact of these matches on fan engagement. This statistic highlights that despite making up only a fraction of the total matches in the league season, the top six matches played a substantial role in drawing fans to the stadiums. "
   ]
  },
  {
   "cell_type": "code",
   "execution_count": 27,
   "metadata": {},
   "outputs": [
    {
     "data": {
      "image/png": "[encoded data removed]",
      "text/plain": [
       "<Figure size 800x550 with 1 Axes>"
      ]
     },
     "metadata": {},
     "output_type": "display_data"
    }
   ],
   "source": [
    "#Attendance percentage\n",
    "plt.style.use('ggplot')\n",
    "\n",
    "Whole=[Total_attendance,Top_6_attendance]\n",
    "\n",
    "Colors = ['#DB0007','#023474']\n",
    "Labels= ['Total attendance','Attendace for matches vs. top 6']\n",
    "\n",
    "plt.pie(Whole,labels=Labels,colors=Colors,wedgeprops={'edgecolor':'black'},shadow=True,\n",
    "        explode=[0.05,0])\n",
    "\n",
    "plt.legend()\n",
    "plt.title('Distribution of attendance numbers',fontdict={'fontname':'Century Gothic','size':15,'color':'#9C824A'})\n",
    "\n",
    "plt.tight_layout()\n",
    "plt.show()"
   ]
  }
 ],
 "metadata": {
  "kernelspec": {
   "display_name": "Python 3",
   "language": "python",
   "name": "python3"
  },
  "language_info": {
   "codemirror_mode": {
    "name": "ipython",
    "version": 3
   },
   "file_extension": ".py",
   "mimetype": "text/x-python",
   "name": "python",
   "nbconvert_exporter": "python",
   "pygments_lexer": "ipython3",
   "version": "3.11.2"
  },
  "orig_nbformat": 4
 },
 "nbformat": 4,
 "nbformat_minor": 2
}
